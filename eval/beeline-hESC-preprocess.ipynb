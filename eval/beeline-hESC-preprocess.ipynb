{
 "cells": [
  {
   "cell_type": "code",
   "execution_count": 1,
   "id": "bottom-freeware",
   "metadata": {},
   "outputs": [],
   "source": [
    "import pandas as pd\n",
    "import numpy as np"
   ]
  },
  {
   "cell_type": "code",
   "execution_count": 2,
   "id": "ethical-realtor",
   "metadata": {},
   "outputs": [],
   "source": [
    "ngene=200"
   ]
  },
  {
   "cell_type": "markdown",
   "id": "sophisticated-internet",
   "metadata": {},
   "source": [
    "hESC"
   ]
  },
  {
   "cell_type": "code",
   "execution_count": 3,
   "id": "familiar-polish",
   "metadata": {},
   "outputs": [],
   "source": [
    "fname='/home/linaiqi/Lab/data/BEELINE-data/inputs/scRNA-Seq/hESC/GeneOrdering.csv'"
   ]
  },
  {
   "cell_type": "code",
   "execution_count": 4,
   "id": "found-relevance",
   "metadata": {},
   "outputs": [],
   "source": [
    "df = pd.read_csv(fname)"
   ]
  },
  {
   "cell_type": "code",
   "execution_count": 5,
   "id": "standing-gallery",
   "metadata": {},
   "outputs": [],
   "source": [
    "df=df.sort_values(by=['Variance'], ascending=False)"
   ]
  },
  {
   "cell_type": "code",
   "execution_count": 6,
   "id": "challenging-crawford",
   "metadata": {},
   "outputs": [
    {
     "data": {
      "text/html": [
       "<div>\n",
       "<style scoped>\n",
       "    .dataframe tbody tr th:only-of-type {\n",
       "        vertical-align: middle;\n",
       "    }\n",
       "\n",
       "    .dataframe tbody tr th {\n",
       "        vertical-align: top;\n",
       "    }\n",
       "\n",
       "    .dataframe thead th {\n",
       "        text-align: right;\n",
       "    }\n",
       "</style>\n",
       "<table border=\"1\" class=\"dataframe\">\n",
       "  <thead>\n",
       "    <tr style=\"text-align: right;\">\n",
       "      <th></th>\n",
       "      <th>Unnamed: 0</th>\n",
       "      <th>VGAMpValue</th>\n",
       "      <th>Variance</th>\n",
       "    </tr>\n",
       "  </thead>\n",
       "  <tbody>\n",
       "    <tr>\n",
       "      <th>1</th>\n",
       "      <td>CER1</td>\n",
       "      <td>2.845685e-304</td>\n",
       "      <td>31.444854</td>\n",
       "    </tr>\n",
       "    <tr>\n",
       "      <th>0</th>\n",
       "      <td>HAPLN1</td>\n",
       "      <td>7.194297e-313</td>\n",
       "      <td>29.410671</td>\n",
       "    </tr>\n",
       "    <tr>\n",
       "      <th>8</th>\n",
       "      <td>ERBB4</td>\n",
       "      <td>1.492803e-205</td>\n",
       "      <td>23.947155</td>\n",
       "    </tr>\n",
       "    <tr>\n",
       "      <th>4</th>\n",
       "      <td>CYP26A1</td>\n",
       "      <td>3.424833e-244</td>\n",
       "      <td>18.432836</td>\n",
       "    </tr>\n",
       "    <tr>\n",
       "      <th>98</th>\n",
       "      <td>DKK4</td>\n",
       "      <td>4.841053e-98</td>\n",
       "      <td>18.367921</td>\n",
       "    </tr>\n",
       "  </tbody>\n",
       "</table>\n",
       "</div>"
      ],
      "text/plain": [
       "   Unnamed: 0     VGAMpValue   Variance\n",
       "1        CER1  2.845685e-304  31.444854\n",
       "0      HAPLN1  7.194297e-313  29.410671\n",
       "8       ERBB4  1.492803e-205  23.947155\n",
       "4     CYP26A1  3.424833e-244  18.432836\n",
       "98       DKK4   4.841053e-98  18.367921"
      ]
     },
     "execution_count": 6,
     "metadata": {},
     "output_type": "execute_result"
    }
   ],
   "source": [
    "df.head()"
   ]
  },
  {
   "cell_type": "code",
   "execution_count": 7,
   "id": "polish-chair",
   "metadata": {},
   "outputs": [],
   "source": [
    "genes=df.iloc[:ngene, 0].tolist()"
   ]
  },
  {
   "cell_type": "code",
   "execution_count": 8,
   "id": "filled-safety",
   "metadata": {},
   "outputs": [],
   "source": [
    "# df=df.rename(mapper={'Unnamed: 0': \"gene\"}, axis='columns')\n",
    "# df=df.set_index('gene')\n",
    "# fout='/home/linaiqi/Lab/data/hESC200-celldata.csv'\n",
    "# df.iloc[:ngene].to_csv(fout)"
   ]
  },
  {
   "cell_type": "code",
   "execution_count": 9,
   "id": "automatic-luxembourg",
   "metadata": {},
   "outputs": [],
   "source": [
    "fname='/home/linaiqi/Lab/data/BEELINE-data/inputs/scRNA-Seq/hESC/ExpressionData.csv'"
   ]
  },
  {
   "cell_type": "code",
   "execution_count": 10,
   "id": "popular-blank",
   "metadata": {},
   "outputs": [],
   "source": [
    "df = pd.read_csv(fname)"
   ]
  },
  {
   "cell_type": "code",
   "execution_count": 11,
   "id": "unique-northern",
   "metadata": {},
   "outputs": [
    {
     "data": {
      "text/html": [
       "<div>\n",
       "<style scoped>\n",
       "    .dataframe tbody tr th:only-of-type {\n",
       "        vertical-align: middle;\n",
       "    }\n",
       "\n",
       "    .dataframe tbody tr th {\n",
       "        vertical-align: top;\n",
       "    }\n",
       "\n",
       "    .dataframe thead th {\n",
       "        text-align: right;\n",
       "    }\n",
       "</style>\n",
       "<table border=\"1\" class=\"dataframe\">\n",
       "  <thead>\n",
       "    <tr style=\"text-align: right;\">\n",
       "      <th></th>\n",
       "      <th>Unnamed: 0</th>\n",
       "      <th>H9_00hb4s_001</th>\n",
       "      <th>H9_00hb4s_002</th>\n",
       "      <th>H9_00hb4s_003</th>\n",
       "      <th>H9_00hb4s_004</th>\n",
       "      <th>H9_00hb4s_005</th>\n",
       "      <th>H9_00hb4s_006</th>\n",
       "      <th>H9_00hb4s_007</th>\n",
       "      <th>H9_00hb4s_008</th>\n",
       "      <th>H9_00hb4s_009</th>\n",
       "      <th>...</th>\n",
       "      <th>H9_96h_182</th>\n",
       "      <th>H9_96h_183</th>\n",
       "      <th>H9_96h_184</th>\n",
       "      <th>H9_96h_185</th>\n",
       "      <th>H9_96h_186</th>\n",
       "      <th>H9_96h_187</th>\n",
       "      <th>H9_96h_188</th>\n",
       "      <th>H9_96h_189</th>\n",
       "      <th>H9_96h_190</th>\n",
       "      <th>H9_96h_192</th>\n",
       "    </tr>\n",
       "  </thead>\n",
       "  <tbody>\n",
       "    <tr>\n",
       "      <th>0</th>\n",
       "      <td>A1BG</td>\n",
       "      <td>2.510133</td>\n",
       "      <td>0.000000</td>\n",
       "      <td>1.702251</td>\n",
       "      <td>4.259372</td>\n",
       "      <td>2.851143</td>\n",
       "      <td>0.000000</td>\n",
       "      <td>2.357210</td>\n",
       "      <td>0.925952</td>\n",
       "      <td>0.000000</td>\n",
       "      <td>...</td>\n",
       "      <td>0.0</td>\n",
       "      <td>1.946191</td>\n",
       "      <td>3.524386</td>\n",
       "      <td>0.000000</td>\n",
       "      <td>0.0</td>\n",
       "      <td>3.516034</td>\n",
       "      <td>0.0</td>\n",
       "      <td>0.000000</td>\n",
       "      <td>1.510372</td>\n",
       "      <td>1.418294</td>\n",
       "    </tr>\n",
       "    <tr>\n",
       "      <th>1</th>\n",
       "      <td>A1CF</td>\n",
       "      <td>1.424896</td>\n",
       "      <td>1.208699</td>\n",
       "      <td>0.000000</td>\n",
       "      <td>0.000000</td>\n",
       "      <td>0.000000</td>\n",
       "      <td>0.000000</td>\n",
       "      <td>1.130935</td>\n",
       "      <td>1.880416</td>\n",
       "      <td>0.000000</td>\n",
       "      <td>...</td>\n",
       "      <td>0.0</td>\n",
       "      <td>0.000000</td>\n",
       "      <td>0.000000</td>\n",
       "      <td>1.910541</td>\n",
       "      <td>0.0</td>\n",
       "      <td>0.000000</td>\n",
       "      <td>0.0</td>\n",
       "      <td>0.804444</td>\n",
       "      <td>0.000000</td>\n",
       "      <td>0.883394</td>\n",
       "    </tr>\n",
       "    <tr>\n",
       "      <th>2</th>\n",
       "      <td>A2LD1</td>\n",
       "      <td>0.000000</td>\n",
       "      <td>0.000000</td>\n",
       "      <td>0.000000</td>\n",
       "      <td>0.000000</td>\n",
       "      <td>0.000000</td>\n",
       "      <td>0.000000</td>\n",
       "      <td>0.000000</td>\n",
       "      <td>0.000000</td>\n",
       "      <td>2.295367</td>\n",
       "      <td>...</td>\n",
       "      <td>0.0</td>\n",
       "      <td>0.000000</td>\n",
       "      <td>0.000000</td>\n",
       "      <td>0.000000</td>\n",
       "      <td>0.0</td>\n",
       "      <td>0.000000</td>\n",
       "      <td>0.0</td>\n",
       "      <td>0.000000</td>\n",
       "      <td>0.000000</td>\n",
       "      <td>0.000000</td>\n",
       "    </tr>\n",
       "    <tr>\n",
       "      <th>3</th>\n",
       "      <td>A2M</td>\n",
       "      <td>0.000000</td>\n",
       "      <td>0.000000</td>\n",
       "      <td>0.000000</td>\n",
       "      <td>0.000000</td>\n",
       "      <td>0.000000</td>\n",
       "      <td>0.000000</td>\n",
       "      <td>0.000000</td>\n",
       "      <td>0.000000</td>\n",
       "      <td>0.000000</td>\n",
       "      <td>...</td>\n",
       "      <td>0.0</td>\n",
       "      <td>0.000000</td>\n",
       "      <td>0.000000</td>\n",
       "      <td>0.000000</td>\n",
       "      <td>0.0</td>\n",
       "      <td>0.000000</td>\n",
       "      <td>0.0</td>\n",
       "      <td>0.000000</td>\n",
       "      <td>0.000000</td>\n",
       "      <td>0.000000</td>\n",
       "    </tr>\n",
       "    <tr>\n",
       "      <th>4</th>\n",
       "      <td>A2ML1</td>\n",
       "      <td>2.141105</td>\n",
       "      <td>2.936250</td>\n",
       "      <td>0.220701</td>\n",
       "      <td>0.776599</td>\n",
       "      <td>1.375939</td>\n",
       "      <td>1.473409</td>\n",
       "      <td>0.000000</td>\n",
       "      <td>1.359460</td>\n",
       "      <td>2.312497</td>\n",
       "      <td>...</td>\n",
       "      <td>0.0</td>\n",
       "      <td>1.244709</td>\n",
       "      <td>1.886233</td>\n",
       "      <td>0.632573</td>\n",
       "      <td>0.0</td>\n",
       "      <td>1.195413</td>\n",
       "      <td>0.0</td>\n",
       "      <td>1.539408</td>\n",
       "      <td>3.034209</td>\n",
       "      <td>0.000000</td>\n",
       "    </tr>\n",
       "  </tbody>\n",
       "</table>\n",
       "<p>5 rows × 759 columns</p>\n",
       "</div>"
      ],
      "text/plain": [
       "  Unnamed: 0  H9_00hb4s_001  H9_00hb4s_002  H9_00hb4s_003  H9_00hb4s_004  \\\n",
       "0       A1BG       2.510133       0.000000       1.702251       4.259372   \n",
       "1       A1CF       1.424896       1.208699       0.000000       0.000000   \n",
       "2      A2LD1       0.000000       0.000000       0.000000       0.000000   \n",
       "3        A2M       0.000000       0.000000       0.000000       0.000000   \n",
       "4      A2ML1       2.141105       2.936250       0.220701       0.776599   \n",
       "\n",
       "   H9_00hb4s_005  H9_00hb4s_006  H9_00hb4s_007  H9_00hb4s_008  H9_00hb4s_009  \\\n",
       "0       2.851143       0.000000       2.357210       0.925952       0.000000   \n",
       "1       0.000000       0.000000       1.130935       1.880416       0.000000   \n",
       "2       0.000000       0.000000       0.000000       0.000000       2.295367   \n",
       "3       0.000000       0.000000       0.000000       0.000000       0.000000   \n",
       "4       1.375939       1.473409       0.000000       1.359460       2.312497   \n",
       "\n",
       "   ...  H9_96h_182  H9_96h_183  H9_96h_184  H9_96h_185  H9_96h_186  \\\n",
       "0  ...         0.0    1.946191    3.524386    0.000000         0.0   \n",
       "1  ...         0.0    0.000000    0.000000    1.910541         0.0   \n",
       "2  ...         0.0    0.000000    0.000000    0.000000         0.0   \n",
       "3  ...         0.0    0.000000    0.000000    0.000000         0.0   \n",
       "4  ...         0.0    1.244709    1.886233    0.632573         0.0   \n",
       "\n",
       "   H9_96h_187  H9_96h_188  H9_96h_189  H9_96h_190  H9_96h_192  \n",
       "0    3.516034         0.0    0.000000    1.510372    1.418294  \n",
       "1    0.000000         0.0    0.804444    0.000000    0.883394  \n",
       "2    0.000000         0.0    0.000000    0.000000    0.000000  \n",
       "3    0.000000         0.0    0.000000    0.000000    0.000000  \n",
       "4    1.195413         0.0    1.539408    3.034209    0.000000  \n",
       "\n",
       "[5 rows x 759 columns]"
      ]
     },
     "execution_count": 11,
     "metadata": {},
     "output_type": "execute_result"
    }
   ],
   "source": [
    "df.head()"
   ]
  },
  {
   "cell_type": "code",
   "execution_count": 12,
   "id": "comprehensive-telescope",
   "metadata": {},
   "outputs": [],
   "source": [
    "lst=df.columns"
   ]
  },
  {
   "cell_type": "code",
   "execution_count": 13,
   "id": "economic-footwear",
   "metadata": {},
   "outputs": [
    {
     "data": {
      "text/plain": [
       "Index(['Unnamed: 0', 'H9_00hb4s_001', 'H9_00hb4s_002', 'H9_00hb4s_003',\n",
       "       'H9_00hb4s_004', 'H9_00hb4s_005', 'H9_00hb4s_006', 'H9_00hb4s_007',\n",
       "       'H9_00hb4s_008', 'H9_00hb4s_009',\n",
       "       ...\n",
       "       'H9_96h_182', 'H9_96h_183', 'H9_96h_184', 'H9_96h_185', 'H9_96h_186',\n",
       "       'H9_96h_187', 'H9_96h_188', 'H9_96h_189', 'H9_96h_190', 'H9_96h_192'],\n",
       "      dtype='object', length=759)"
      ]
     },
     "execution_count": 13,
     "metadata": {},
     "output_type": "execute_result"
    }
   ],
   "source": [
    "lst"
   ]
  },
  {
   "cell_type": "code",
   "execution_count": 14,
   "id": "assumed-dynamics",
   "metadata": {},
   "outputs": [],
   "source": [
    "cnt=0\n",
    "fout='/home/linaiqi/Lab/data/hESC200-celldata.csv'\n",
    "with open(fout,'w') as f:\n",
    "    f.write(',PseudoTime1\\n')\n",
    "    for g in lst[1:]:\n",
    "        f.write('%s,%d\\n'%(g,cnt))\n",
    "        cnt+=1"
   ]
  },
  {
   "cell_type": "code",
   "execution_count": 15,
   "id": "seventh-consciousness",
   "metadata": {},
   "outputs": [],
   "source": [
    "df=df.rename(mapper={'Unnamed: 0': \"gene\"}, axis='columns')"
   ]
  },
  {
   "cell_type": "code",
   "execution_count": 16,
   "id": "automated-extra",
   "metadata": {},
   "outputs": [],
   "source": [
    "df=df.set_index('gene')"
   ]
  },
  {
   "cell_type": "code",
   "execution_count": 17,
   "id": "coastal-rhythm",
   "metadata": {},
   "outputs": [],
   "source": [
    "fout='/home/linaiqi/Lab/data/bl-hESC200.csv'"
   ]
  },
  {
   "cell_type": "code",
   "execution_count": 18,
   "id": "original-raleigh",
   "metadata": {},
   "outputs": [],
   "source": [
    "df.loc[genes].to_csv(fout)"
   ]
  },
  {
   "cell_type": "code",
   "execution_count": 31,
   "id": "macro-panama",
   "metadata": {},
   "outputs": [],
   "source": [
    "data=df.loc[genes].to_numpy().T"
   ]
  },
  {
   "cell_type": "code",
   "execution_count": 32,
   "id": "stainless-conservative",
   "metadata": {},
   "outputs": [
    {
     "data": {
      "text/plain": [
       "(758, 200)"
      ]
     },
     "execution_count": 32,
     "metadata": {},
     "output_type": "execute_result"
    }
   ],
   "source": [
    "data.shape"
   ]
  },
  {
   "cell_type": "code",
   "execution_count": 37,
   "id": "collective-flight",
   "metadata": {},
   "outputs": [],
   "source": [
    "fout='/home/linaiqi/Lab/data/hESC200.txt'"
   ]
  },
  {
   "cell_type": "code",
   "execution_count": 40,
   "id": "center-valentine",
   "metadata": {},
   "outputs": [],
   "source": [
    "with open(fout, 'w') as f:\n",
    "    f.write(\"\\t\".join(genes)+'\\n')\n",
    "    for i in range(data.shape[0]):\n",
    "        f.write('%.8f'%data[i, 0])\n",
    "        for j in range(1, data.shape[1]):\n",
    "            f.write('\\t%.8f'%data[i, j])\n",
    "        f.write('\\n')"
   ]
  },
  {
   "cell_type": "code",
   "execution_count": null,
   "id": "elder-wheel",
   "metadata": {},
   "outputs": [],
   "source": []
  },
  {
   "cell_type": "code",
   "execution_count": 23,
   "id": "adapted-sunrise",
   "metadata": {},
   "outputs": [
    {
     "name": "stdout",
     "output_type": "stream",
     "text": [
      "147\n"
     ]
    }
   ],
   "source": [
    "fname='/home/linaiqi/Lab/data/Networks/human/hESC-ChIP-seq-network.csv'\n",
    "fout='/home/linaiqi/Lab/data/bl-hESC200-ChIP-seq-network.csv'\n",
    "\n",
    "cnt=0\n",
    "with open(fname) as fin, open(fout, 'w') as f:\n",
    "    l = fin.readline()\n",
    "    f.write(l)\n",
    "    for l in fin:\n",
    "        a, b = l.strip().split(',')\n",
    "        if a in genes and b in genes:\n",
    "            cnt+=1\n",
    "            f.write('%s,%s\\n'%(a,b))\n",
    "print(cnt)"
   ]
  },
  {
   "cell_type": "code",
   "execution_count": null,
   "id": "equipped-consultation",
   "metadata": {},
   "outputs": [],
   "source": []
  },
  {
   "cell_type": "code",
   "execution_count": 22,
   "id": "northern-portal",
   "metadata": {},
   "outputs": [
    {
     "name": "stdout",
     "output_type": "stream",
     "text": [
      "25\n"
     ]
    }
   ],
   "source": [
    "fname='/home/linaiqi/Lab/data/Networks/human/Non-specific-ChIP-seq-network.csv'\n",
    "fout='/home/linaiqi/Lab/data/bl-hESC200-nonspec-ChIP-seq-network.csv'\n",
    "\n",
    "cnt=0\n",
    "with open(fname) as fin, open(fout, 'w') as f:\n",
    "    l = fin.readline()\n",
    "    f.write(l)\n",
    "    for l in fin:\n",
    "        a, b = l.strip().split(',')\n",
    "        if a in genes and b in genes:\n",
    "            cnt+=1\n",
    "            f.write('%s,%s\\n'%(a,b))\n",
    "print(cnt)"
   ]
  },
  {
   "cell_type": "code",
   "execution_count": null,
   "id": "domestic-conditions",
   "metadata": {},
   "outputs": [],
   "source": []
  },
  {
   "cell_type": "code",
   "execution_count": 21,
   "id": "ultimate-pakistan",
   "metadata": {},
   "outputs": [],
   "source": [
    "fname='/home/linaiqi/Lab/data/Networks/human/STRING-network.csv'\n",
    "fout='/home/linaiqi/Lab/data/bl-hESC200-STRING-network.csv'\n",
    "\n",
    "with open(fname) as fin, open(fout, 'w') as f:\n",
    "    l = fin.readline()\n",
    "    f.write(l)\n",
    "    for l in fin:\n",
    "        a, b = l.strip().split(',')\n",
    "        if a in genes and b in genes:\n",
    "            f.write('%s,%s\\n'%(a,b))"
   ]
  },
  {
   "cell_type": "code",
   "execution_count": null,
   "id": "expensive-breakdown",
   "metadata": {},
   "outputs": [],
   "source": []
  }
 ],
 "metadata": {
  "kernelspec": {
   "display_name": "Python 3",
   "language": "python",
   "name": "python3"
  },
  "language_info": {
   "codemirror_mode": {
    "name": "ipython",
    "version": 3
   },
   "file_extension": ".py",
   "mimetype": "text/x-python",
   "name": "python",
   "nbconvert_exporter": "python",
   "pygments_lexer": "ipython3",
   "version": "3.7.9"
  }
 },
 "nbformat": 4,
 "nbformat_minor": 5
}
