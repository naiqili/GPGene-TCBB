{
 "cells": [
  {
   "cell_type": "code",
   "execution_count": 1,
   "id": "floating-joyce",
   "metadata": {},
   "outputs": [],
   "source": [
    "import pandas as pd\n",
    "import numpy as np"
   ]
  },
  {
   "cell_type": "code",
   "execution_count": 2,
   "id": "spare-uzbekistan",
   "metadata": {},
   "outputs": [],
   "source": [
    "ngene=200"
   ]
  },
  {
   "cell_type": "markdown",
   "id": "caroline-wesley",
   "metadata": {},
   "source": [
    "hHep"
   ]
  },
  {
   "cell_type": "code",
   "execution_count": 3,
   "id": "korean-arthur",
   "metadata": {},
   "outputs": [],
   "source": [
    "fname='/home/linaiqi/Lab/data/BEELINE-data/inputs/scRNA-Seq/hHep/GeneOrdering.csv'"
   ]
  },
  {
   "cell_type": "code",
   "execution_count": 4,
   "id": "dried-welsh",
   "metadata": {},
   "outputs": [],
   "source": [
    "df = pd.read_csv(fname)"
   ]
  },
  {
   "cell_type": "code",
   "execution_count": 5,
   "id": "accurate-composer",
   "metadata": {},
   "outputs": [],
   "source": [
    "df=df.sort_values(by=['Variance'], ascending=False)"
   ]
  },
  {
   "cell_type": "code",
   "execution_count": 6,
   "id": "detected-spine",
   "metadata": {},
   "outputs": [
    {
     "data": {
      "text/html": [
       "<div>\n",
       "<style scoped>\n",
       "    .dataframe tbody tr th:only-of-type {\n",
       "        vertical-align: middle;\n",
       "    }\n",
       "\n",
       "    .dataframe tbody tr th {\n",
       "        vertical-align: top;\n",
       "    }\n",
       "\n",
       "    .dataframe thead th {\n",
       "        text-align: right;\n",
       "    }\n",
       "</style>\n",
       "<table border=\"1\" class=\"dataframe\">\n",
       "  <thead>\n",
       "    <tr style=\"text-align: right;\">\n",
       "      <th></th>\n",
       "      <th>Unnamed: 0</th>\n",
       "      <th>VGAMpValue</th>\n",
       "      <th>Variance</th>\n",
       "    </tr>\n",
       "  </thead>\n",
       "  <tbody>\n",
       "    <tr>\n",
       "      <th>0</th>\n",
       "      <td>AFP</td>\n",
       "      <td>2.640337e-252</td>\n",
       "      <td>38.857646</td>\n",
       "    </tr>\n",
       "    <tr>\n",
       "      <th>6</th>\n",
       "      <td>FGB</td>\n",
       "      <td>2.123082e-187</td>\n",
       "      <td>33.555070</td>\n",
       "    </tr>\n",
       "    <tr>\n",
       "      <th>8</th>\n",
       "      <td>TTR</td>\n",
       "      <td>8.415990e-176</td>\n",
       "      <td>33.160322</td>\n",
       "    </tr>\n",
       "    <tr>\n",
       "      <th>18</th>\n",
       "      <td>FGG</td>\n",
       "      <td>3.275191e-150</td>\n",
       "      <td>29.620222</td>\n",
       "    </tr>\n",
       "    <tr>\n",
       "      <th>4</th>\n",
       "      <td>APOC3</td>\n",
       "      <td>9.966868e-207</td>\n",
       "      <td>29.146411</td>\n",
       "    </tr>\n",
       "  </tbody>\n",
       "</table>\n",
       "</div>"
      ],
      "text/plain": [
       "   Unnamed: 0     VGAMpValue   Variance\n",
       "0         AFP  2.640337e-252  38.857646\n",
       "6         FGB  2.123082e-187  33.555070\n",
       "8         TTR  8.415990e-176  33.160322\n",
       "18        FGG  3.275191e-150  29.620222\n",
       "4       APOC3  9.966868e-207  29.146411"
      ]
     },
     "execution_count": 6,
     "metadata": {},
     "output_type": "execute_result"
    }
   ],
   "source": [
    "df.head()"
   ]
  },
  {
   "cell_type": "code",
   "execution_count": 7,
   "id": "legislative-blackjack",
   "metadata": {},
   "outputs": [],
   "source": [
    "genes=df.iloc[:ngene, 0].tolist()"
   ]
  },
  {
   "cell_type": "code",
   "execution_count": 8,
   "id": "brave-roommate",
   "metadata": {},
   "outputs": [
    {
     "data": {
      "text/plain": [
       "['AFP',\n",
       " 'FGB',\n",
       " 'TTR',\n",
       " 'FGG',\n",
       " 'APOC3',\n",
       " 'APOA2',\n",
       " 'APOA1',\n",
       " 'RBP4',\n",
       " 'SPINK1',\n",
       " 'FGA',\n",
       " 'APOA4',\n",
       " 'CER1',\n",
       " 'VTN',\n",
       " 'GSTA1',\n",
       " 'LGALS3',\n",
       " 'HMGCS2',\n",
       " 'RNASE1',\n",
       " 'GSTA2',\n",
       " 'SEPP1',\n",
       " 'TDGF1',\n",
       " 'UBE2C',\n",
       " 'CDK1',\n",
       " 'GNRH2',\n",
       " 'HPX',\n",
       " 'S100A14',\n",
       " 'IFITM1',\n",
       " 'TF',\n",
       " 'CCNB1',\n",
       " 'SHISA2',\n",
       " 'IFITM2',\n",
       " 'APOB',\n",
       " 'ID2',\n",
       " 'ACTL6A',\n",
       " 'AHSG',\n",
       " 'SEMA3E',\n",
       " 'MT1X',\n",
       " 'APOC4.APOC2',\n",
       " 'TAGLN',\n",
       " 'HGD',\n",
       " 'KPNA2',\n",
       " 'MAD2L1',\n",
       " 'TFPI',\n",
       " 'HP',\n",
       " 'DPEP1',\n",
       " 'ESRG',\n",
       " 'L1TD1',\n",
       " 'LGALS1',\n",
       " 'UCHL1',\n",
       " 'FABP1',\n",
       " 'PTTG1',\n",
       " 'S100A16',\n",
       " 'CDC20',\n",
       " 'ZNF770',\n",
       " 'LEAP2',\n",
       " 'SPP1',\n",
       " 'CCNB2',\n",
       " 'AGT',\n",
       " 'SPTLC3',\n",
       " 'ANPEP',\n",
       " 'KNTC1',\n",
       " 'DLGAP5',\n",
       " 'ALB',\n",
       " 'WDR12',\n",
       " 'IL32',\n",
       " 'AURKB',\n",
       " 'GATM',\n",
       " 'CIDEB',\n",
       " 'RGS2',\n",
       " 'SLN',\n",
       " 'HMGB2',\n",
       " 'AKR1D1',\n",
       " 'FMO5',\n",
       " 'AASS',\n",
       " 'MCM4',\n",
       " 'UCP2',\n",
       " 'PIGY',\n",
       " 'FKBP11',\n",
       " 'CD9',\n",
       " 'GLIPR2',\n",
       " 'ADM',\n",
       " 'TNFRSF12A',\n",
       " 'CENPK',\n",
       " 'CDKN3',\n",
       " 'AMBP',\n",
       " 'ITLN2',\n",
       " 'DNMT3B',\n",
       " 'ANXA4',\n",
       " 'HESX1',\n",
       " 'RAMP1',\n",
       " 'CCKBR',\n",
       " 'BSCL2',\n",
       " 'NFYB',\n",
       " 'PCNA',\n",
       " 'PRKCE',\n",
       " 'PDZK1',\n",
       " 'ERBB4',\n",
       " 'BIRC5',\n",
       " 'CBR1',\n",
       " 'MUSTN1',\n",
       " 'MTHFD2',\n",
       " 'NQO1',\n",
       " 'LIPA',\n",
       " 'MST1',\n",
       " 'HERPUD1',\n",
       " 'MCM7',\n",
       " 'NEK2',\n",
       " 'ASS1',\n",
       " 'SC5D',\n",
       " 'RBP2',\n",
       " 'ARRDC3',\n",
       " 'LEFTY2',\n",
       " 'KIAA0101',\n",
       " 'PMAIP1',\n",
       " 'TOP2A',\n",
       " 'CA2',\n",
       " 'SMAGP',\n",
       " 'RHOBTB3',\n",
       " 'OCIAD2',\n",
       " 'PRMT5',\n",
       " 'ZWINT',\n",
       " 'GMPR2',\n",
       " 'TBPL1',\n",
       " 'LUZP6',\n",
       " 'TMEM135',\n",
       " 'SCAPER',\n",
       " 'EFNA1',\n",
       " 'S100A6',\n",
       " 'CAMK2D',\n",
       " 'DDIT4',\n",
       " 'SLC7A7',\n",
       " 'PRAP1',\n",
       " 'RCHY1',\n",
       " 'SOCS2',\n",
       " 'PSAT1',\n",
       " 'FOS',\n",
       " 'MT2A',\n",
       " 'DDIT3',\n",
       " 'ALDH1A1',\n",
       " 'NNAT',\n",
       " 'LCP1',\n",
       " 'SLC51A',\n",
       " 'WFDC2',\n",
       " 'OTX2',\n",
       " 'RFC4',\n",
       " 'LYPLAL1',\n",
       " 'GULP1',\n",
       " 'TERF1',\n",
       " 'RAD51AP1',\n",
       " 'FLRT3',\n",
       " 'ALDOC',\n",
       " 'CRABP2',\n",
       " 'HELLS',\n",
       " 'F2',\n",
       " 'AKR1B1',\n",
       " 'LITAF',\n",
       " 'DPPA4',\n",
       " 'CLU',\n",
       " 'LAMB2',\n",
       " 'ANXA3',\n",
       " 'PLCD1',\n",
       " 'ZWILCH',\n",
       " 'PON2',\n",
       " 'FAM184A',\n",
       " 'DDX39A',\n",
       " 'LIN28A',\n",
       " 'HSD17B11',\n",
       " 'PRIM1',\n",
       " 'DPH6',\n",
       " 'PPT1',\n",
       " 'CENPN',\n",
       " 'LCMT1',\n",
       " 'ASUN',\n",
       " 'SMCO4',\n",
       " 'SMC4',\n",
       " 'DNASE1',\n",
       " 'C3orf14',\n",
       " 'ACY1',\n",
       " 'PDGFRA',\n",
       " 'NOP16',\n",
       " 'STC1',\n",
       " 'GYG1',\n",
       " 'TXNIP',\n",
       " 'CTSC',\n",
       " 'BPHL',\n",
       " 'COMMD3',\n",
       " 'ANG',\n",
       " 'NIP7',\n",
       " 'IFT57',\n",
       " 'GSN',\n",
       " 'ASNS',\n",
       " 'TRMT11',\n",
       " 'STMN1',\n",
       " 'ATG4C',\n",
       " 'IFITM3',\n",
       " 'FLRT2',\n",
       " 'CEP70',\n",
       " 'EPHX2',\n",
       " 'ASGR1',\n",
       " 'CENPW',\n",
       " 'RIOK2']"
      ]
     },
     "execution_count": 8,
     "metadata": {},
     "output_type": "execute_result"
    }
   ],
   "source": [
    "genes"
   ]
  },
  {
   "cell_type": "code",
   "execution_count": 9,
   "id": "delayed-relay",
   "metadata": {},
   "outputs": [],
   "source": [
    "# df=df.rename(mapper={'Unnamed: 0': \"gene\"}, axis='columns')\n",
    "# df=df.set_index('gene')\n",
    "# fout='/home/linaiqi/Lab/data/hESC200-celldata.csv'\n",
    "# df.iloc[:ngene].to_csv(fout)"
   ]
  },
  {
   "cell_type": "code",
   "execution_count": 10,
   "id": "appreciated-tutorial",
   "metadata": {},
   "outputs": [],
   "source": [
    "fname='/home/linaiqi/Lab/data/BEELINE-data/inputs/scRNA-Seq/hHep/ExpressionData.csv'"
   ]
  },
  {
   "cell_type": "code",
   "execution_count": 11,
   "id": "attended-freeze",
   "metadata": {},
   "outputs": [],
   "source": [
    "df = pd.read_csv(fname)"
   ]
  },
  {
   "cell_type": "code",
   "execution_count": 12,
   "id": "immediate-secretary",
   "metadata": {},
   "outputs": [
    {
     "data": {
      "text/html": [
       "<div>\n",
       "<style scoped>\n",
       "    .dataframe tbody tr th:only-of-type {\n",
       "        vertical-align: middle;\n",
       "    }\n",
       "\n",
       "    .dataframe tbody tr th {\n",
       "        vertical-align: top;\n",
       "    }\n",
       "\n",
       "    .dataframe thead th {\n",
       "        text-align: right;\n",
       "    }\n",
       "</style>\n",
       "<table border=\"1\" class=\"dataframe\">\n",
       "  <thead>\n",
       "    <tr style=\"text-align: right;\">\n",
       "      <th></th>\n",
       "      <th>Unnamed: 0</th>\n",
       "      <th>A10_de</th>\n",
       "      <th>A11_de</th>\n",
       "      <th>A2_de</th>\n",
       "      <th>A3_de</th>\n",
       "      <th>A5_de</th>\n",
       "      <th>A7_de</th>\n",
       "      <th>A8_de</th>\n",
       "      <th>B11_de</th>\n",
       "      <th>B1_de</th>\n",
       "      <th>...</th>\n",
       "      <th>G3_mh2</th>\n",
       "      <th>G6_mh2</th>\n",
       "      <th>G7_mh2</th>\n",
       "      <th>G8_mh2</th>\n",
       "      <th>G9_mh2</th>\n",
       "      <th>H11_mh2</th>\n",
       "      <th>H12_mh2</th>\n",
       "      <th>H1_mh2</th>\n",
       "      <th>H3_mh2</th>\n",
       "      <th>H5_mh2</th>\n",
       "    </tr>\n",
       "  </thead>\n",
       "  <tbody>\n",
       "    <tr>\n",
       "      <th>0</th>\n",
       "      <td>ESRG</td>\n",
       "      <td>0.000000</td>\n",
       "      <td>0.000000</td>\n",
       "      <td>0.000000</td>\n",
       "      <td>0.000000</td>\n",
       "      <td>0.000000</td>\n",
       "      <td>0.0</td>\n",
       "      <td>0.000000</td>\n",
       "      <td>0.000000</td>\n",
       "      <td>0.000000</td>\n",
       "      <td>...</td>\n",
       "      <td>0.000000</td>\n",
       "      <td>0.000000</td>\n",
       "      <td>0.000000</td>\n",
       "      <td>0.000000</td>\n",
       "      <td>0.000000</td>\n",
       "      <td>0.000000</td>\n",
       "      <td>0.000000</td>\n",
       "      <td>0.000000</td>\n",
       "      <td>0.000000</td>\n",
       "      <td>0.000000</td>\n",
       "    </tr>\n",
       "    <tr>\n",
       "      <th>1</th>\n",
       "      <td>SAMD11</td>\n",
       "      <td>0.000000</td>\n",
       "      <td>2.840248</td>\n",
       "      <td>1.585035</td>\n",
       "      <td>0.000000</td>\n",
       "      <td>1.289463</td>\n",
       "      <td>0.0</td>\n",
       "      <td>0.177599</td>\n",
       "      <td>0.000000</td>\n",
       "      <td>0.000000</td>\n",
       "      <td>...</td>\n",
       "      <td>0.000000</td>\n",
       "      <td>0.000000</td>\n",
       "      <td>0.736328</td>\n",
       "      <td>0.000000</td>\n",
       "      <td>0.000000</td>\n",
       "      <td>1.154953</td>\n",
       "      <td>0.000000</td>\n",
       "      <td>0.000000</td>\n",
       "      <td>0.000000</td>\n",
       "      <td>0.000000</td>\n",
       "    </tr>\n",
       "    <tr>\n",
       "      <th>2</th>\n",
       "      <td>NOC2L</td>\n",
       "      <td>0.000000</td>\n",
       "      <td>5.759883</td>\n",
       "      <td>2.775021</td>\n",
       "      <td>4.800771</td>\n",
       "      <td>5.187716</td>\n",
       "      <td>0.0</td>\n",
       "      <td>4.503520</td>\n",
       "      <td>0.000000</td>\n",
       "      <td>0.000000</td>\n",
       "      <td>...</td>\n",
       "      <td>2.865244</td>\n",
       "      <td>4.734450</td>\n",
       "      <td>5.274500</td>\n",
       "      <td>4.802198</td>\n",
       "      <td>4.387955</td>\n",
       "      <td>6.568120</td>\n",
       "      <td>5.045172</td>\n",
       "      <td>0.000000</td>\n",
       "      <td>6.153297</td>\n",
       "      <td>4.292318</td>\n",
       "    </tr>\n",
       "    <tr>\n",
       "      <th>3</th>\n",
       "      <td>ISG15</td>\n",
       "      <td>6.109068</td>\n",
       "      <td>1.539124</td>\n",
       "      <td>5.640696</td>\n",
       "      <td>6.313240</td>\n",
       "      <td>5.275447</td>\n",
       "      <td>0.0</td>\n",
       "      <td>5.914787</td>\n",
       "      <td>5.037426</td>\n",
       "      <td>2.848644</td>\n",
       "      <td>...</td>\n",
       "      <td>5.676375</td>\n",
       "      <td>6.797947</td>\n",
       "      <td>1.685568</td>\n",
       "      <td>6.278884</td>\n",
       "      <td>6.218597</td>\n",
       "      <td>5.369704</td>\n",
       "      <td>10.060210</td>\n",
       "      <td>9.379526</td>\n",
       "      <td>0.000000</td>\n",
       "      <td>9.962509</td>\n",
       "    </tr>\n",
       "    <tr>\n",
       "      <th>4</th>\n",
       "      <td>AGRN</td>\n",
       "      <td>0.382070</td>\n",
       "      <td>0.000000</td>\n",
       "      <td>0.000000</td>\n",
       "      <td>0.000000</td>\n",
       "      <td>0.000000</td>\n",
       "      <td>0.0</td>\n",
       "      <td>0.000000</td>\n",
       "      <td>0.000000</td>\n",
       "      <td>0.000000</td>\n",
       "      <td>...</td>\n",
       "      <td>0.679018</td>\n",
       "      <td>0.000000</td>\n",
       "      <td>0.622949</td>\n",
       "      <td>0.000000</td>\n",
       "      <td>4.763157</td>\n",
       "      <td>0.000000</td>\n",
       "      <td>0.000000</td>\n",
       "      <td>0.000000</td>\n",
       "      <td>0.000000</td>\n",
       "      <td>0.000000</td>\n",
       "    </tr>\n",
       "  </tbody>\n",
       "</table>\n",
       "<p>5 rows × 426 columns</p>\n",
       "</div>"
      ],
      "text/plain": [
       "  Unnamed: 0    A10_de    A11_de     A2_de     A3_de     A5_de  A7_de  \\\n",
       "0       ESRG  0.000000  0.000000  0.000000  0.000000  0.000000    0.0   \n",
       "1     SAMD11  0.000000  2.840248  1.585035  0.000000  1.289463    0.0   \n",
       "2      NOC2L  0.000000  5.759883  2.775021  4.800771  5.187716    0.0   \n",
       "3      ISG15  6.109068  1.539124  5.640696  6.313240  5.275447    0.0   \n",
       "4       AGRN  0.382070  0.000000  0.000000  0.000000  0.000000    0.0   \n",
       "\n",
       "      A8_de    B11_de     B1_de  ...    G3_mh2    G6_mh2    G7_mh2    G8_mh2  \\\n",
       "0  0.000000  0.000000  0.000000  ...  0.000000  0.000000  0.000000  0.000000   \n",
       "1  0.177599  0.000000  0.000000  ...  0.000000  0.000000  0.736328  0.000000   \n",
       "2  4.503520  0.000000  0.000000  ...  2.865244  4.734450  5.274500  4.802198   \n",
       "3  5.914787  5.037426  2.848644  ...  5.676375  6.797947  1.685568  6.278884   \n",
       "4  0.000000  0.000000  0.000000  ...  0.679018  0.000000  0.622949  0.000000   \n",
       "\n",
       "     G9_mh2   H11_mh2    H12_mh2    H1_mh2    H3_mh2    H5_mh2  \n",
       "0  0.000000  0.000000   0.000000  0.000000  0.000000  0.000000  \n",
       "1  0.000000  1.154953   0.000000  0.000000  0.000000  0.000000  \n",
       "2  4.387955  6.568120   5.045172  0.000000  6.153297  4.292318  \n",
       "3  6.218597  5.369704  10.060210  9.379526  0.000000  9.962509  \n",
       "4  4.763157  0.000000   0.000000  0.000000  0.000000  0.000000  \n",
       "\n",
       "[5 rows x 426 columns]"
      ]
     },
     "execution_count": 12,
     "metadata": {},
     "output_type": "execute_result"
    }
   ],
   "source": [
    "df.head()"
   ]
  },
  {
   "cell_type": "code",
   "execution_count": 13,
   "id": "residential-stretch",
   "metadata": {},
   "outputs": [],
   "source": [
    "lst=df.columns"
   ]
  },
  {
   "cell_type": "code",
   "execution_count": 14,
   "id": "portuguese-timing",
   "metadata": {},
   "outputs": [
    {
     "data": {
      "text/plain": [
       "Index(['Unnamed: 0', 'A10_de', 'A11_de', 'A2_de', 'A3_de', 'A5_de', 'A7_de',\n",
       "       'A8_de', 'B11_de', 'B1_de',\n",
       "       ...\n",
       "       'G3_mh2', 'G6_mh2', 'G7_mh2', 'G8_mh2', 'G9_mh2', 'H11_mh2', 'H12_mh2',\n",
       "       'H1_mh2', 'H3_mh2', 'H5_mh2'],\n",
       "      dtype='object', length=426)"
      ]
     },
     "execution_count": 14,
     "metadata": {},
     "output_type": "execute_result"
    }
   ],
   "source": [
    "lst"
   ]
  },
  {
   "cell_type": "code",
   "execution_count": 15,
   "id": "caroline-violence",
   "metadata": {},
   "outputs": [],
   "source": [
    "cnt=0\n",
    "fout='/home/linaiqi/Lab/data/hHep200-celldata.csv'\n",
    "with open(fout,'w') as f:\n",
    "    f.write(',PseudoTime1\\n')\n",
    "    for g in lst[1:]:\n",
    "        f.write('%s,%d\\n'%(g,cnt))\n",
    "        cnt+=1"
   ]
  },
  {
   "cell_type": "code",
   "execution_count": 16,
   "id": "given-radiation",
   "metadata": {},
   "outputs": [],
   "source": [
    "df=df.rename(mapper={'Unnamed: 0': \"gene\"}, axis='columns')"
   ]
  },
  {
   "cell_type": "code",
   "execution_count": 17,
   "id": "developmental-antigua",
   "metadata": {},
   "outputs": [],
   "source": [
    "df=df.set_index('gene')"
   ]
  },
  {
   "cell_type": "code",
   "execution_count": 18,
   "id": "alone-acrylic",
   "metadata": {},
   "outputs": [],
   "source": [
    "fout='/home/linaiqi/Lab/data/bl-hHep200.csv'"
   ]
  },
  {
   "cell_type": "code",
   "execution_count": 19,
   "id": "outside-requirement",
   "metadata": {},
   "outputs": [],
   "source": [
    "df.loc[genes].to_csv(fout)"
   ]
  },
  {
   "cell_type": "code",
   "execution_count": 20,
   "id": "chinese-cowboy",
   "metadata": {},
   "outputs": [],
   "source": [
    "data=df.loc[genes].to_numpy().T"
   ]
  },
  {
   "cell_type": "code",
   "execution_count": 21,
   "id": "split-twins",
   "metadata": {},
   "outputs": [
    {
     "data": {
      "text/plain": [
       "(425, 200)"
      ]
     },
     "execution_count": 21,
     "metadata": {},
     "output_type": "execute_result"
    }
   ],
   "source": [
    "data.shape"
   ]
  },
  {
   "cell_type": "code",
   "execution_count": 22,
   "id": "collective-series",
   "metadata": {},
   "outputs": [],
   "source": [
    "fout='/home/linaiqi/Lab/data/hHep200.txt'"
   ]
  },
  {
   "cell_type": "code",
   "execution_count": 23,
   "id": "affected-forth",
   "metadata": {},
   "outputs": [],
   "source": [
    "with open(fout, 'w') as f:\n",
    "    f.write(\"\\t\".join(genes)+'\\n')\n",
    "    for i in range(data.shape[0]):\n",
    "        f.write('%.8f'%data[i, 0])\n",
    "        for j in range(1, data.shape[1]):\n",
    "            f.write('\\t%.8f'%data[i, j])\n",
    "        f.write('\\n')"
   ]
  },
  {
   "cell_type": "code",
   "execution_count": null,
   "id": "numeric-organizer",
   "metadata": {},
   "outputs": [],
   "source": []
  },
  {
   "cell_type": "code",
   "execution_count": 24,
   "id": "european-galaxy",
   "metadata": {},
   "outputs": [
    {
     "name": "stdout",
     "output_type": "stream",
     "text": [
      "75\n"
     ]
    }
   ],
   "source": [
    "fname='/home/linaiqi/Lab/data/Networks/human/hESC-ChIP-seq-network.csv'\n",
    "fout='/home/linaiqi/Lab/data/bl-hHep200-ChIP-seq-network.csv'\n",
    "\n",
    "cnt=0\n",
    "with open(fname) as fin, open(fout, 'w') as f:\n",
    "    l = fin.readline()\n",
    "    f.write(l)\n",
    "    for l in fin:\n",
    "        a, b = l.strip().split(',')\n",
    "        if a in genes and b in genes:\n",
    "            cnt+=1\n",
    "            f.write('%s,%s\\n'%(a,b))\n",
    "print(cnt)"
   ]
  },
  {
   "cell_type": "code",
   "execution_count": null,
   "id": "republican-century",
   "metadata": {},
   "outputs": [],
   "source": []
  },
  {
   "cell_type": "code",
   "execution_count": 25,
   "id": "silent-packing",
   "metadata": {},
   "outputs": [
    {
     "name": "stdout",
     "output_type": "stream",
     "text": [
      "43\n"
     ]
    }
   ],
   "source": [
    "fname='/home/linaiqi/Lab/data/Networks/human/Non-specific-ChIP-seq-network.csv'\n",
    "fout='/home/linaiqi/Lab/data/bl-hHep200-nonspec-ChIP-seq-network.csv'\n",
    "\n",
    "cnt=0\n",
    "with open(fname) as fin, open(fout, 'w') as f:\n",
    "    l = fin.readline()\n",
    "    f.write(l)\n",
    "    for l in fin:\n",
    "        a, b = l.strip().split(',')\n",
    "        if a in genes and b in genes:\n",
    "            cnt+=1\n",
    "            f.write('%s,%s\\n'%(a,b))\n",
    "print(cnt)"
   ]
  },
  {
   "cell_type": "code",
   "execution_count": null,
   "id": "consolidated-school",
   "metadata": {},
   "outputs": [],
   "source": []
  },
  {
   "cell_type": "code",
   "execution_count": 26,
   "id": "frozen-occurrence",
   "metadata": {},
   "outputs": [
    {
     "name": "stdout",
     "output_type": "stream",
     "text": [
      "226\n"
     ]
    }
   ],
   "source": [
    "fname='/home/linaiqi/Lab/data/Networks/human/STRING-network.csv'\n",
    "fout='/home/linaiqi/Lab/data/bl-hHep200-STRING-network.csv'\n",
    "\n",
    "cnt=0\n",
    "with open(fname) as fin, open(fout, 'w') as f:\n",
    "    l = fin.readline()\n",
    "    f.write(l)\n",
    "    for l in fin:\n",
    "        a, b = l.strip().split(',')\n",
    "        if a in genes and b in genes:\n",
    "            cnt+=1\n",
    "            f.write('%s,%s\\n'%(a,b))\n",
    "print(cnt)"
   ]
  },
  {
   "cell_type": "code",
   "execution_count": null,
   "id": "boolean-script",
   "metadata": {},
   "outputs": [],
   "source": []
  }
 ],
 "metadata": {
  "kernelspec": {
   "display_name": "Python 3",
   "language": "python",
   "name": "python3"
  },
  "language_info": {
   "codemirror_mode": {
    "name": "ipython",
    "version": 3
   },
   "file_extension": ".py",
   "mimetype": "text/x-python",
   "name": "python",
   "nbconvert_exporter": "python",
   "pygments_lexer": "ipython3",
   "version": "3.7.9"
  }
 },
 "nbformat": 4,
 "nbformat_minor": 5
}
